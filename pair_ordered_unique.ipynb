{
 "cells": [
  {
   "cell_type": "code",
   "execution_count": 5,
   "id": "ba757e29",
   "metadata": {},
   "outputs": [
    {
     "data": {
      "text/plain": [
       "{(100, 999), (123, 765), (123, 812), (458, 123), (458, 765), (458, 812)}"
      ]
     },
     "execution_count": 5,
     "metadata": {},
     "output_type": "execute_result"
    }
   ],
   "source": [
    "# Sets to tuple method\n",
    "similar_ids = { \n",
    "    123: [458, 812, 765], \n",
    "    458: [123, 812, 765], \n",
    "    812: [123, 458], \n",
    "    765: [123, 458], \n",
    "    999: [100], \n",
    "    100: [999] \n",
    "}\n",
    "\n",
    "# Initialize set data object, Sets have unique elements \n",
    "# if try to add an element that already exist will auto-removed from set because have same hash\n",
    "result_set=set()\n",
    "\n",
    "# Get all possible pairs\n",
    "for article_from_i, articles_to_i in similar_ids.items():\n",
    "    for article_to_j in articles_to_i:\n",
    "        # Add every article from and article to pair by a set and get default ordered \n",
    "        # by set creation. and finally create a tuple because set is a unhashable type\n",
    "        result_set.add(tuple({article_from_i, article_to_j}))\n",
    "\n",
    "result_set\n",
    "\n",
    "\n"
   ]
  },
  {
   "cell_type": "code",
   "execution_count": 15,
   "id": "7edbc5cb",
   "metadata": {},
   "outputs": [
    {
     "data": {
      "text/plain": [
       "{(100, 999), (123, 458), (123, 765), (123, 812), (458, 765), (458, 812)}"
      ]
     },
     "execution_count": 15,
     "metadata": {},
     "output_type": "execute_result"
    }
   ],
   "source": [
    "# order low to high method\n",
    "similar_ids = { \n",
    "    123: [458, 812, 765], \n",
    "    458: [123, 812, 765], \n",
    "    812: [123, 458], \n",
    "    765: [123, 458], \n",
    "    999: [100], \n",
    "    100: [999] \n",
    "}\n",
    "\n",
    "# Initialize set data object, Sets have unique elements \n",
    "# if try to add an element that already exist will auto-removed from set because have same hash\n",
    "result_set=set()\n",
    "\n",
    "# Get all possible pairs\n",
    "for article_from_i, articles_to_i in similar_ids.items():\n",
    "    for article_to_j in articles_to_i:\n",
    "        values=(\n",
    "            (article_from_i, article_to_j) \n",
    "            if article_from_i <= article_to_j \n",
    "            else \n",
    "            (article_to_j, article_from_i)\n",
    "        )\n",
    "        # Add every article from and article to pair by evaluate id value \n",
    "        # if article_from_i is lesser than article_to_j (article_from_i, article_to_j) \n",
    "        # otherwise (article_to_j, article_from_i)\n",
    "        result_set.add(values)\n",
    "\n",
    "result_set\n",
    "\n",
    "\n"
   ]
  },
  {
   "cell_type": "code",
   "execution_count": null,
   "id": "19f3b6a2",
   "metadata": {},
   "outputs": [],
   "source": []
  }
 ],
 "metadata": {
  "kernelspec": {
   "display_name": "Python 3 (ipykernel)",
   "language": "python",
   "name": "python3"
  },
  "language_info": {
   "codemirror_mode": {
    "name": "ipython",
    "version": 3
   },
   "file_extension": ".py",
   "mimetype": "text/x-python",
   "name": "python",
   "nbconvert_exporter": "python",
   "pygments_lexer": "ipython3",
   "version": "3.9.5"
  }
 },
 "nbformat": 4,
 "nbformat_minor": 5
}
